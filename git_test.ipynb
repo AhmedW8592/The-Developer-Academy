{
 "cells": [
  {
   "cell_type": "code",
   "execution_count": null,
   "metadata": {},
   "outputs": [
    {
     "name": "stdout",
     "output_type": "stream",
     "text": [
      "Zero\n"
     ]
    }
   ],
   "source": [
    "import random\n",
    "\n",
    "random.randint(1,6)\n",
    "\n",
    "n = int(input(f\"Between 0 and 2 click one\"))\n",
    "\n",
    "\n",
    "while True:\n",
    "    if n == 0:\n",
    "        print(\"Zero\")\n",
    "    elif n == 2:\n",
    "        print(\"Two\")\n",
    "        break\n",
    "else:\n",
    "    print(\"Game over\")\n",
    "    \n"
   ]
  }
 ],
 "metadata": {
  "kernelspec": {
   "display_name": "Python 3",
   "language": "python",
   "name": "python3"
  },
  "language_info": {
   "codemirror_mode": {
    "name": "ipython",
    "version": 3
   },
   "file_extension": ".py",
   "mimetype": "text/x-python",
   "name": "python",
   "nbconvert_exporter": "python",
   "pygments_lexer": "ipython3",
   "version": "3.13.1"
  }
 },
 "nbformat": 4,
 "nbformat_minor": 2
}
