{
 "cells": [
  {
   "cell_type": "code",
   "execution_count": 57,
   "metadata": {},
   "outputs": [
    {
     "name": "stdout",
     "output_type": "stream",
     "text": [
      "Welcome to Guess the Number!\n",
      "Wrong! That is too low!\n",
      "Wrong! That is too low!\n",
      "Wrong! That is too low!\n",
      "Wrong! That is too high!\n",
      "Wrong! That is too high!\n",
      "Wrong! That is too high!\n",
      "Well done! You have correctly guessed the number 10!\n"
     ]
    }
   ],
   "source": [
    "import random\n",
    "\n",
    "print(\"Welcome to Guess the Number!\")\n",
    "\n",
    "secret_number = random.randint(1, 15) # Giving a range for the number\n",
    "\n",
    "while True:\n",
    "    try:\n",
    "        guess = int(input(\"Guess a number between 1 and 15: \")) # Added the question for the user to input their guess.\n",
    "    except ValueError:                                          # Checked to see if the number was an integer and gives an error message, using the ValueError feature.\n",
    "        print(\"Invalid input. Please enter a valid integer.\")\n",
    "        continue                                             # Didn't break the loop just yet as they needed to continue the game.\n",
    "\n",
    "    if guess > secret_number:\n",
    "        print(\"Wrong! That is too high!\")\n",
    "    elif guess < secret_number:                        # Tells the user whether the guess is too high or low\n",
    "        print(\"Wrong! That is too low!\")\n",
    "    else:\n",
    "        print(f\"Well done! You have correctly guessed the number {secret_number}!\") # Congratulate the user and end the game.\n",
    "        break\n"
   ]
  }
 ],
 "metadata": {
  "kernelspec": {
   "display_name": "Python 3",
   "language": "python",
   "name": "python3"
  },
  "language_info": {
   "codemirror_mode": {
    "name": "ipython",
    "version": 3
   },
   "file_extension": ".py",
   "mimetype": "text/x-python",
   "name": "python",
   "nbconvert_exporter": "python",
   "pygments_lexer": "ipython3",
   "version": "3.13.1"
  }
 },
 "nbformat": 4,
 "nbformat_minor": 2
}
