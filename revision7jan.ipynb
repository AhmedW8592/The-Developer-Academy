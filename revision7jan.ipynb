{
 "cells": [
  {
   "cell_type": "code",
   "execution_count": 4,
   "metadata": {},
   "outputs": [
    {
     "data": {
      "text/plain": [
       "2"
      ]
     },
     "execution_count": 4,
     "metadata": {},
     "output_type": "execute_result"
    }
   ],
   "source": [
    "import random\n",
    "\n",
    "random.randint(1,6) #simulating a dice roll"
   ]
  },
  {
   "cell_type": "code",
   "execution_count": 10,
   "metadata": {},
   "outputs": [
    {
     "name": "stdout",
     "output_type": "stream",
     "text": [
      "The die rolls are 6 and 6, with a sum of 12\n"
     ]
    }
   ],
   "source": [
    "import random\n",
    "\n",
    "die1 = random.randint(1,6)\n",
    "\n",
    "die2 = random.randint(1,6)\n",
    "\n",
    "total = die1 + die2\n",
    "\n",
    "print(f\"The die rolls are {die1} and {die2}, with a sum of {total}\")\n",
    "\n"
   ]
  },
  {
   "cell_type": "code",
   "execution_count": 17,
   "metadata": {},
   "outputs": [
    {
     "name": "stdout",
     "output_type": "stream",
     "text": [
      "ok we will stop\n"
     ]
    }
   ],
   "source": [
    "count = 1  # Starting point\n",
    "\n",
    "question = input(\"Would you like to bounce the ball? (yes/no):\").lower()\n",
    "\n",
    "while count <= 5 and question == 'yes':  # Rule: keep looping while count is 5 or less and person answers yes\n",
    "    print(f\"Bouncing the ball:\", count)\n",
    "    count += 1  # Make the count bigger by 1 each time\n",
    "print('ok we will stop')  # if person answers no\n"
   ]
  },
  {
   "cell_type": "code",
   "execution_count": null,
   "metadata": {},
   "outputs": [],
   "source": [
    "# starting the bounce\n",
    "\n",
    "bounce = 0\n",
    "\n",
    "while bounce <= 10:\n",
    "    print(f\"Bounce number:\", {bounce})\n",
    "    bounce += 1"
   ]
  },
  {
   "cell_type": "code",
   "execution_count": null,
   "metadata": {},
   "outputs": [],
   "source": [
    "# more task\n",
    "\n",
    "count_2 = 0\n",
    "\n",
    "while count_2 <= 15:\n",
    "    print(f\"I am working out:\", count_2)\n",
    "    count_2 += 1\n",
    "print (\"I'm done!\")"
   ]
  },
  {
   "cell_type": "code",
   "execution_count": 57,
   "metadata": {},
   "outputs": [
    {
     "ename": "SyntaxError",
     "evalue": "invalid syntax (1912984795.py, line 10)",
     "output_type": "error",
     "traceback": [
      "\u001b[1;36m  Cell \u001b[1;32mIn[57], line 10\u001b[1;36m\u001b[0m\n\u001b[1;33m    elif guess >= secret_number:\u001b[0m\n\u001b[1;37m    ^\u001b[0m\n\u001b[1;31mSyntaxError\u001b[0m\u001b[1;31m:\u001b[0m invalid syntax\n"
     ]
    }
   ],
   "source": [
    "# guess the number practice \n",
    "\n",
    "import random\n",
    "\n",
    "secret_number = random.randint(1, 20)\n",
    "\n",
    "guess = int(input('Guess a random number'))\n",
    "\n",
    "while guess != secret_number:\n",
    "      elif guess >= secret_number:\n",
    "      print(f\"Nope, too high! Try again!\")\n",
    "if guess != secret_number:\n",
    "    elif guess <= secret_number:\n",
    "    print(\"Nope, too low! Try again!\")\n",
    "print('Correct!')"
   ]
  }
 ],
 "metadata": {
  "kernelspec": {
   "display_name": "Python 3",
   "language": "python",
   "name": "python3"
  },
  "language_info": {
   "codemirror_mode": {
    "name": "ipython",
    "version": 3
   },
   "file_extension": ".py",
   "mimetype": "text/x-python",
   "name": "python",
   "nbconvert_exporter": "python",
   "pygments_lexer": "ipython3",
   "version": "3.13.1"
  }
 },
 "nbformat": 4,
 "nbformat_minor": 2
}
